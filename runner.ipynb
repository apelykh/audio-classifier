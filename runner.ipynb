{
 "cells": [
  {
   "cell_type": "code",
   "execution_count": 1,
   "metadata": {},
   "outputs": [],
   "source": [
    "import numpy as np\n",
    "import datetime\n",
    "import os\n",
    "import torch\n",
    "import torch.nn as nn\n",
    "from torch.utils.data import DataLoader\n",
    "from dataset import AudioDataset\n",
    "from model import SimpleConvModel"
   ]
  },
  {
   "cell_type": "code",
   "execution_count": 2,
   "metadata": {},
   "outputs": [
    {
     "name": "stdout",
     "output_type": "stream",
     "text": [
      "Torch version:  1.4.0\n",
      "Device:  cuda\n",
      "7603\n"
     ]
    }
   ],
   "source": [
    "device = torch.device(\"cuda\" if torch.cuda.is_available() else \"cpu\")\n",
    "print('Torch version: ', torch.__version__)\n",
    "print('Device: ', device)\n",
    "\n",
    "print(torch.backends.cudnn.version())\n",
    "torch.backends.cudnn.benchmark = True\n",
    "\n",
    "root_dir = '/home/apelykh/datasets/speech_commands_v0.02'\n",
    "seed = 123"
   ]
  },
  {
   "cell_type": "markdown",
   "metadata": {},
   "source": [
    "### Supervised classification\n",
    "\n",
    "Let's build a supervised classifier to distinguish between 10 voice commands."
   ]
  },
  {
   "cell_type": "code",
   "execution_count": 14,
   "metadata": {},
   "outputs": [],
   "source": [
    "d_train = AudioDataset(root_dir, mode='train', seed=seed)\n",
    "d_val = AudioDataset(root_dir, mode='val', seed=seed)\n",
    "\n",
    "batch_size = 256\n",
    "\n",
    "# merges a list of samples to form a mini-batch\n",
    "def collate_fn(batch):\n",
    "    features = [np.expand_dims(sample['mfcc'], axis=0) for sample in batch]\n",
    "    labels = [sample['label'] for sample in batch]\n",
    "\n",
    "    return torch.Tensor(features), torch.Tensor(labels)\n",
    "\n",
    "\n",
    "train_loader = DataLoader(dataset=d_train, batch_size=batch_size, \n",
    "                               collate_fn=collate_fn, shuffle=True)\n",
    "val_loader = DataLoader(dataset=d_val, batch_size=batch_size,\n",
    "                             collate_fn=collate_fn, shuffle=True)"
   ]
  },
  {
   "cell_type": "code",
   "execution_count": 15,
   "metadata": {},
   "outputs": [
    {
     "name": "stdout",
     "output_type": "stream",
     "text": [
      "Train set length:  30837\n",
      "Number of train batches:  121\n",
      "Val set length:  3854\n",
      "Number of val batches:  16\n"
     ]
    }
   ],
   "source": [
    "print('Train set length: ', len(d_train))\n",
    "print('Number of train batches: ', len(train_loader))\n",
    "print('Val set length: ', len(d_val))\n",
    "print('Number of val batches: ', len(val_loader))"
   ]
  },
  {
   "cell_type": "code",
   "execution_count": 16,
   "metadata": {},
   "outputs": [],
   "source": [
    "model = SimpleConvModel().to(device)"
   ]
  },
  {
   "cell_type": "code",
   "execution_count": 17,
   "metadata": {},
   "outputs": [
    {
     "name": "stdout",
     "output_type": "stream",
     "text": [
      "torch.Size([256, 1, 20, 44])\n",
      "torch.Size([256])\n",
      "torch.Size([256, 10])\n"
     ]
    }
   ],
   "source": [
    "# sanity check of the dimensions of the DataLoader and model outputs\n",
    "features, labels = next(iter(train_loader))\n",
    "print(features.shape)\n",
    "print(labels.shape)\n",
    "\n",
    "out = model(features.to(device, non_blocking=True))\n",
    "print(out.shape)"
   ]
  },
  {
   "cell_type": "code",
   "execution_count": 18,
   "metadata": {},
   "outputs": [],
   "source": [
    "loss_func = nn.CrossEntropyLoss().to(device)\n",
    "optimizer = torch.optim.Adam(model.parameters(), lr=1e-4, betas=(0.9, 0.999), eps=1e-08)"
   ]
  },
  {
   "cell_type": "markdown",
   "metadata": {},
   "source": [
    "### Training the model"
   ]
  },
  {
   "cell_type": "code",
   "execution_count": 19,
   "metadata": {},
   "outputs": [],
   "source": [
    "num_epochs = 5\n",
    "start_epoch = 0\n",
    "\n",
    "# weights = './weights/weights_file'\n",
    "# model.load_state_dict(torch.load(weights, map_location=device)"
   ]
  },
  {
   "cell_type": "code",
   "execution_count": 20,
   "metadata": {},
   "outputs": [],
   "source": [
    "timestamp = str(datetime.datetime.now())\n",
    "# weights are saved in the folder with the current timestamp\n",
    "weights_dir = os.path.join('./weights', timestamp)\n",
    "if not os.path.exists(weights_dir):\n",
    "    os.makedirs(weights_dir)\n",
    "\n",
    "train_loss = []\n",
    "val_loss = []"
   ]
  },
  {
   "cell_type": "code",
   "execution_count": null,
   "metadata": {},
   "outputs": [],
   "source": [
    "# Training is very slow, probably because of the heavy feature calculation in the Dataset\n",
    "# Option 1: load the data into memory first and get t from there while training\n",
    "# Option 2: pre-compute features and store them on the drive\n",
    "# Option 3: write an async queue, where batches will be stored and taken from while training (?)\n",
    "\n",
    "# Low GPU utilization, TODO: find the reason\n",
    "\n",
    "for epoch in range(start_epoch, start_epoch + num_epochs):\n",
    "    epoch_train_loss = []\n",
    "    for i, (features, labels) in enumerate(train_loader):      \n",
    "        model.zero_grad()\n",
    "        out = model(features.to(device, non_blocking=True))\n",
    "        loss = loss_func(out, labels.long().to(device, non_blocking=True))\n",
    "        epoch_train_loss.append(loss.item())\n",
    "        loss.backward()\n",
    "        optimizer.step()\n",
    "\n",
    "        print('Epoch: {:2d}\\tBatch: {:2d}/{:d}\\tTrain loss: {:.3e}'\n",
    "              .format(epoch + 1, i + 1, len(train_loader), loss.item()))\n",
    "    \n",
    "    avg_train_loss = np.mean(epoch_train_loss)\n",
    "    train_loss.append(avg_train_loss)\n",
    "    print('-' * 50)\n",
    "    print('Epoch: {:2d}\\tTrain loss: {:.3f}'.format(epoch + 1, avg_train_loss))\n",
    "    \n",
    "    with torch.no_grad():\n",
    "        features, labels = next(iter(val_loader))\n",
    "        out = model(features.to(device))\n",
    "        loss = loss_func(out, labels.long().to(device)).item()\n",
    "        val_loss.append(loss)\n",
    "\n",
    "    print('Epoch: {:2d}\\tValidation loss: {:.3f}'.format(epoch + 1, loss))\n",
    "    print('-' * 50)\n",
    "    \n",
    "    weights_file = os.path.join(weights_dir, 'simpleConv_bs{}_{:04d}_{:.3f}.pt'.format(\n",
    "        batch_size, epoch, loss)) \n",
    "    torch.save(model.state_dict(), weights_file)"
   ]
  },
  {
   "cell_type": "markdown",
   "metadata": {},
   "source": [
    "### Plotting loss values"
   ]
  },
  {
   "cell_type": "code",
   "execution_count": null,
   "metadata": {},
   "outputs": [],
   "source": [
    "plt.figure(figsize=(7,5))\n",
    "plt.plot(train_loss, label='Train loss')\n",
    "plt.plot(val_loss, label='Validation loss')\n",
    "plt.xlabel('Epochs')\n",
    "plt.ylabel('Loss');\n",
    "plt.xlim(0, start_epoch + num_epochs)\n",
    "plt.legend()\n",
    "plt.tight_layout()\n",
    "plt.savefig('{}/loss.png'.format(weights_dir))"
   ]
  },
  {
   "cell_type": "markdown",
   "metadata": {},
   "source": [
    "### Testing the model"
   ]
  },
  {
   "cell_type": "code",
   "execution_count": null,
   "metadata": {},
   "outputs": [],
   "source": [
    "weights = './weights/weight_file.pt'\n",
    "model.load_state_dict(torch.load(weights, map_location=device))"
   ]
  },
  {
   "cell_type": "code",
   "execution_count": null,
   "metadata": {},
   "outputs": [],
   "source": [
    "d_test = AudioDataset(mode='test', seed=seed)\n",
    "test_loader = data.DataLoader(dataset=d_test, batch_size=batch_size, \n",
    "                              collate_fn=collate_fn, shuffle=True)"
   ]
  }
 ],
 "metadata": {
  "kernelspec": {
   "display_name": "Python 3",
   "language": "python",
   "name": "python3"
  },
  "language_info": {
   "codemirror_mode": {
    "name": "ipython",
    "version": 3
   },
   "file_extension": ".py",
   "mimetype": "text/x-python",
   "name": "python",
   "nbconvert_exporter": "python",
   "pygments_lexer": "ipython3",
   "version": "3.6.9"
  }
 },
 "nbformat": 4,
 "nbformat_minor": 4
}
